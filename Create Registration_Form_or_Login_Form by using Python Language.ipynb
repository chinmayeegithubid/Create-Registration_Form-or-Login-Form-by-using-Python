{
 "cells": [
  {
   "cell_type": "markdown",
   "id": "5f4774a8",
   "metadata": {},
   "source": [
    "# Create registration Form By Using Python"
   ]
  },
  {
   "cell_type": "markdown",
   "id": "a6adeaee",
   "metadata": {},
   "source": [
    "# Chinmayee Nayak"
   ]
  },
  {
   "cell_type": "markdown",
   "id": "3e73b8f0",
   "metadata": {},
   "source": [
    "# Code Explanation\n"
   ]
  },
  {
   "cell_type": "raw",
   "id": "f2fc2a86",
   "metadata": {},
   "source": [
    "This code creates a simple registration form using the Tkinter library in Python. \n",
    "It defines labels, entry fields, a checkbox, and a submit button, all organized in a grid layout.\n",
    "The heading is set at the top of the window. \n",
    "The getvals function is called when the submit button is clicked, printing \"Accepted\" to the console."
   ]
  },
  {
   "cell_type": "markdown",
   "id": "dd0ae412",
   "metadata": {},
   "source": [
    "# Importing Libraries"
   ]
  },
  {
   "cell_type": "code",
   "execution_count": 50,
   "id": "9b508be9",
   "metadata": {},
   "outputs": [],
   "source": [
    "from tkinter import *"
   ]
  },
  {
   "cell_type": "markdown",
   "id": "501a6b13",
   "metadata": {},
   "source": [
    "# Create the main window"
   ]
  },
  {
   "cell_type": "code",
   "execution_count": 51,
   "id": "327cb9b5",
   "metadata": {},
   "outputs": [
    {
     "data": {
      "text/plain": [
       "''"
      ]
     },
     "execution_count": 51,
     "metadata": {},
     "output_type": "execute_result"
    }
   ],
   "source": [
    "root = Tk()\n",
    "root.geometry(\"600x300\")  # Set the initial size of the window"
   ]
  },
  {
   "cell_type": "markdown",
   "id": "d1a80b10",
   "metadata": {},
   "source": [
    "# Function to be called when the \"Submit\" button is clicked"
   ]
  },
  {
   "cell_type": "code",
   "execution_count": 52,
   "id": "8ffcaaa1",
   "metadata": {},
   "outputs": [],
   "source": [
    "def getvals():\n",
    "    print(\"Accepted\")"
   ]
  },
  {
   "cell_type": "markdown",
   "id": "ba53c2a2",
   "metadata": {},
   "source": [
    "# Heading"
   ]
  },
  {
   "cell_type": "code",
   "execution_count": 53,
   "id": "24888f98",
   "metadata": {},
   "outputs": [],
   "source": [
    "Label(root, text=\"Python Registration\", font=\"ar 15 bold\").grid(row=0, column=3)"
   ]
  },
  {
   "cell_type": "markdown",
   "id": "49cc2e86",
   "metadata": {},
   "source": [
    "# Field Names"
   ]
  },
  {
   "cell_type": "code",
   "execution_count": 54,
   "id": "d602cdba",
   "metadata": {},
   "outputs": [],
   "source": [
    "name = Label(root, text=\"Name\")\n",
    "phone = Label(root, text=\"Phone\")\n",
    "gender = Label(root, text=\"Gender\")\n",
    "emergency = Label(root, text=\"Emergency\")\n",
    "email = Label(root, text=\"Email\")\n",
    "address = Label(root, text=\"Address\")\n",
    "paymentmode = Label(root, text=\"Payment Mode\")"
   ]
  },
  {
   "cell_type": "markdown",
   "id": "42ff5e5c",
   "metadata": {},
   "source": [
    "# Position Field Name labels on the grid"
   ]
  },
  {
   "cell_type": "code",
   "execution_count": 55,
   "id": "5b04fcb4",
   "metadata": {},
   "outputs": [],
   "source": [
    "name.grid(row=1, column=2)\n",
    "phone.grid(row=2, column=2)\n",
    "gender.grid(row=3, column=2)\n",
    "emergency.grid(row=4, column=2)\n",
    "email.grid(row=5, column=2)\n",
    "address.grid(row=6, column=2)\n",
    "paymentmode.grid(row=7, column=2)"
   ]
  },
  {
   "cell_type": "markdown",
   "id": "63c3010e",
   "metadata": {},
   "source": [
    "# Variable Initialization"
   ]
  },
  {
   "cell_type": "code",
   "execution_count": 56,
   "id": "91afa9e9",
   "metadata": {},
   "outputs": [],
   "source": [
    "namevalue = StringVar()\n",
    "phonevalue = StringVar()\n",
    "gendervalue = StringVar()\n",
    "emergencyvalue = StringVar()\n",
    "emailvalue = StringVar()\n",
    "addressvalue = StringVar()\n",
    "paymentmodevalue = StringVar()\n",
    "checkvalue = IntVar()\n"
   ]
  },
  {
   "cell_type": "markdown",
   "id": "41daccee",
   "metadata": {},
   "source": [
    "# Entry Fields"
   ]
  },
  {
   "cell_type": "code",
   "execution_count": 57,
   "id": "d695bcc9",
   "metadata": {},
   "outputs": [],
   "source": [
    "nameentry = Entry(root, textvariable=namevalue)\n",
    "phoneentry = Entry(root, textvariable=phonevalue)\n",
    "genderentry = Entry(root, textvariable=gendervalue)\n",
    "emergencyentry = Entry(root, textvariable=emergencyvalue)\n",
    "emailentry = Entry(root, textvariable=emailvalue)\n",
    "addressentry = Entry(root, textvariable=addressvalue)\n",
    "paymentmodeentry = Entry(root, textvariable=paymentmodevalue)\n"
   ]
  },
  {
   "cell_type": "markdown",
   "id": "a82056e2",
   "metadata": {},
   "source": [
    "# Position Entry Fields on the grid"
   ]
  },
  {
   "cell_type": "code",
   "execution_count": 58,
   "id": "89987397",
   "metadata": {},
   "outputs": [],
   "source": [
    "nameentry.grid(row=1, column=3)\n",
    "phoneentry.grid(row=2, column=3)\n",
    "genderentry.grid(row=3, column=3)\n",
    "emergencyentry.grid(row=4, column=3)\n",
    "emailentry.grid(row=5, column=3)\n",
    "addressentry.grid(row=6, column=3)\n",
    "paymentmodeentry.grid(row=7, column=3)"
   ]
  },
  {
   "cell_type": "markdown",
   "id": "bf20fb56",
   "metadata": {},
   "source": [
    "# Creating Checkbox"
   ]
  },
  {
   "cell_type": "code",
   "execution_count": 59,
   "id": "2c771761",
   "metadata": {},
   "outputs": [],
   "source": [
    "checkbtn = Checkbutton(root, text=\"Remember me?\", variable=checkvalue)\n",
    "checkbtn.grid(row=8, column=3)  # Adjusted row for the checkbox"
   ]
  },
  {
   "cell_type": "markdown",
   "id": "d70804e5",
   "metadata": {},
   "source": [
    "# Submit Button"
   ]
  },
  {
   "cell_type": "code",
   "execution_count": 60,
   "id": "abdaf9dd",
   "metadata": {},
   "outputs": [],
   "source": [
    "Button(root, text=\"Submit\", command=getvals).grid(row=9, column=3)  # Adjusted row for the button\n"
   ]
  },
  {
   "cell_type": "markdown",
   "id": "75abc29a",
   "metadata": {},
   "source": [
    "# Start the Tkinter event loop"
   ]
  },
  {
   "cell_type": "code",
   "execution_count": null,
   "id": "fc3bd19a",
   "metadata": {},
   "outputs": [
    {
     "name": "stdout",
     "output_type": "stream",
     "text": [
      "Accepted\n",
      "Accepted\n"
     ]
    }
   ],
   "source": [
    "root.mainloop()"
   ]
  },
  {
   "cell_type": "code",
   "execution_count": null,
   "id": "8bb93149",
   "metadata": {},
   "outputs": [],
   "source": []
  },
  {
   "cell_type": "code",
   "execution_count": null,
   "id": "a8074d3f",
   "metadata": {},
   "outputs": [],
   "source": []
  }
 ],
 "metadata": {
  "kernelspec": {
   "display_name": "Python 3 (ipykernel)",
   "language": "python",
   "name": "python3"
  },
  "language_info": {
   "codemirror_mode": {
    "name": "ipython",
    "version": 3
   },
   "file_extension": ".py",
   "mimetype": "text/x-python",
   "name": "python",
   "nbconvert_exporter": "python",
   "pygments_lexer": "ipython3",
   "version": "3.11.5"
  }
 },
 "nbformat": 4,
 "nbformat_minor": 5
}
